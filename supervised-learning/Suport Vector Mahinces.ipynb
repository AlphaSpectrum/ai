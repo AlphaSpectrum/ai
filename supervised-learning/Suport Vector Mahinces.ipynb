{
 "cells": [
  {
   "cell_type": "markdown",
   "metadata": {},
   "source": [
    "# Support Vector Machines in sklearn\n",
    "\n",
    "In this section, you'll use support vector machines to fit a five smpale dataset. Before you do that, let's go over the tools required to buil this model. \n",
    "\n",
    "For your support vector machine model, you'll be using scikit-learn's `SVC` class. This class provides the functions to define and fit the model to your data. \n",
    "\n",
    "```python\n",
    "from sklearn.svm import SVC\n",
    "model = SVC()\n",
    "model.fit(x_values, y_values)\n",
    "```\n",
    "\n",
    "In the example above, the `model` variable is a support vector machine model that has been fitted to the data `x_values` and `y_values`. Fitting the model means finding the best boundary that fits the training data. Let's make two predictions using the model's `predict()` function.\n",
    "\n",
    "```python\n",
    "print(model.predict([[0.2, 0.8], [0.5, 0.4]]))\n",
    "# [[0., 1.]]\n",
    "```\n",
    "\n",
    "The model returned an array of predictions, on prediction for each input array. The first input, [0.2, 0.8], got a prediction of 0.. The second input, [0.5, 0.4], got a prediction of 1.\n",
    "\n",
    "## Hyperparemeters\n",
    "When we define the model, we can specify the Hyperparemeters. As we've seen in this section, the most common ons are:\n",
    "- `C`: The C parameter\n",
    "- `kernel`: The kernel. The most common ones are 'linear', 'poly', and 'rbf'.\n",
    "- `degree`: If the kernel is polynomial, this is the maximum degreee of the monomials in the kernel.\n",
    "- `gamma`: If the kernel is rbf, this is the gamma parameter.\n",
    "\n",
    "For example, here we define a model with a polynomial kernel of degree 4, and a C parameter of 0.1.\n",
    "\n",
    "```python\n",
    "model = SVC(kernel='poly', degree=4, C=0.1)\n",
    "```"
   ]
  },
  {
   "cell_type": "code",
   "execution_count": 3,
   "metadata": {},
   "outputs": [
    {
     "output_type": "stream",
     "name": "stdout",
     "text": "1.0\n"
    }
   ],
   "source": [
    "# Import statements \n",
    "from sklearn.svm import SVC\n",
    "from sklearn.metrics import accuracy_score\n",
    "import pandas as pd\n",
    "import numpy as np\n",
    "\n",
    "# Read the data.\n",
    "data = np.asarray(pd.read_csv('../datasets/svc.csv', header=None))\n",
    "# Assign the features to the variable X, and the labels to the variable y. \n",
    "X = data[:,0:2]\n",
    "y = data[:,2]\n",
    "\n",
    "# TODO: Create the model and assign it to the variable model.\n",
    "# Find the right parameters for this model to achieve 100% accuracy on the dataset.\n",
    "model = SVC(kernel='rbf', gamma=27)\n",
    "\n",
    "# TODO: Fit the model.\n",
    "model.fit(X, y)\n",
    "# TODO: Make predictions. Store them in the variable y_pred.\n",
    "y_pred = model.predict(X)\n",
    "\n",
    "# TODO: Calculate the accuracy and assign it to the variable acc.\n",
    "acc = accuracy_score(y, y_pred)\n",
    "print(acc)"
   ]
  },
  {
   "cell_type": "code",
   "execution_count": null,
   "metadata": {},
   "outputs": [],
   "source": []
  }
 ],
 "metadata": {
  "language_info": {
   "codemirror_mode": {
    "name": "ipython",
    "version": 3
   },
   "file_extension": ".py",
   "mimetype": "text/x-python",
   "name": "python",
   "nbconvert_exporter": "python",
   "pygments_lexer": "ipython3",
   "version": "3.7.6-final"
  },
  "orig_nbformat": 2,
  "kernelspec": {
   "name": "python3",
   "display_name": "Python 3"
  }
 },
 "nbformat": 4,
 "nbformat_minor": 2
}